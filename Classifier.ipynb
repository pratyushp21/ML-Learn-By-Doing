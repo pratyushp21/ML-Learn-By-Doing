{
 "cells": [
  {
   "cell_type": "markdown",
   "id": "34921574",
   "metadata": {},
   "source": [
    "# Random Linear Classifier "
   ]
  },
  {
   "cell_type": "markdown",
   "id": "bd8bc2f4",
   "metadata": {},
   "source": [
    "### Finding cats and dogs using Linear Classifier"
   ]
  },
  {
   "cell_type": "code",
   "execution_count": 3,
   "id": "a41389c2",
   "metadata": {},
   "outputs": [],
   "source": [
    "# Importing libraries : numpy(scientific computing) and matplotlib(for ploting)\n",
    "import numpy as np\n",
    "import matplotlib.pyplot as plt"
   ]
  },
  {
   "cell_type": "code",
   "execution_count": 2,
   "id": "bbd6d516",
   "metadata": {},
   "outputs": [],
   "source": [
    "np.random.seed(0)"
   ]
  },
  {
   "cell_type": "code",
   "execution_count": null,
   "id": "7047af52",
   "metadata": {},
   "outputs": [],
   "source": []
  },
  {
   "cell_type": "markdown",
   "id": "e31cc113",
   "metadata": {},
   "source": []
  }
 ],
 "metadata": {
  "kernelspec": {
   "display_name": "Python 3",
   "language": "python",
   "name": "python3"
  },
  "language_info": {
   "codemirror_mode": {
    "name": "ipython",
    "version": 3
   },
   "file_extension": ".py",
   "mimetype": "text/x-python",
   "name": "python",
   "nbconvert_exporter": "python",
   "pygments_lexer": "ipython3",
   "version": "3.13.5"
  }
 },
 "nbformat": 4,
 "nbformat_minor": 5
}
