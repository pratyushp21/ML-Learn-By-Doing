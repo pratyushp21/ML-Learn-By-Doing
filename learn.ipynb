{
 "cells": [
  {
   "cell_type": "markdown",
   "id": "a464fb34",
   "metadata": {},
   "source": [
    "# Learning numpy,matplotlib and scikit learn"
   ]
  },
  {
   "cell_type": "code",
   "execution_count": 2,
   "id": "82c82f2e",
   "metadata": {},
   "outputs": [],
   "source": [
    "import numpy as np"
   ]
  },
  {
   "cell_type": "code",
   "execution_count": 6,
   "id": "5e01a97f",
   "metadata": {},
   "outputs": [
    {
     "name": "stdout",
     "output_type": "stream",
     "text": [
      "[0.14013077 0.41480463 0.2572501  0.05710251 0.33834618]\n"
     ]
    }
   ],
   "source": [
    "# Gives random values between 0 to 1\n",
    "arr=np.random.rand(5)\n",
    "print(arr)"
   ]
  },
  {
   "cell_type": "code",
   "execution_count": 9,
   "id": "9281d9e0",
   "metadata": {},
   "outputs": [
    {
     "name": "stdout",
     "output_type": "stream",
     "text": [
      "[1 2 3]\n",
      "[[1 2 3]\n",
      " [4 5 6]]\n",
      "[[1 2 3]\n",
      " [4 5 6]\n",
      " [7 8 9]]\n"
     ]
    }
   ],
   "source": [
    "# np.array\n",
    "a=np.array([1,2,3])\n",
    "b=np.array([[1,2,3],[4,5,6]])\n",
    "c=np.array([[1,2,3],[4,5,6],[7,8,9]])\n",
    "print(a)\n",
    "print(b)\n",
    "print(c)"
   ]
  },
  {
   "cell_type": "code",
   "execution_count": 13,
   "id": "95defd2d",
   "metadata": {},
   "outputs": [
    {
     "name": "stdout",
     "output_type": "stream",
     "text": [
      "(3,)\n",
      "1\n",
      "3\n"
     ]
    }
   ],
   "source": [
    "\n",
    "print(a.shape) #shape of the array\n",
    "print(a.ndim)\n",
    "print(a.size)"
   ]
  },
  {
   "cell_type": "code",
   "execution_count": null,
   "id": "1329ed7a",
   "metadata": {},
   "outputs": [
    {
     "name": "stdout",
     "output_type": "stream",
     "text": [
      "[[0. 0. 0.]\n",
      " [0. 0. 0.]\n",
      " [0. 0. 0.]]\n",
      "[0 2 4 6 8]\n",
      "[0.   0.25 0.5  0.75 1.  ]\n",
      "[[5 5 5 5 5]\n",
      " [5 5 5 5 5]\n",
      " [5 5 5 5 5]\n",
      " [5 5 5 5 5]\n",
      " [5 5 5 5 5]]\n"
     ]
    }
   ],
   "source": [
    "print(np.zeros((3,3)))\n",
    "# print(np.eye(7))\n",
    "print(np.arange(0,10,2))\n",
    "print(np.linspace(0,1,5)\n",
    "print(np.full((5,5),5))"
   ]
  },
  {
   "cell_type": "code",
   "execution_count": 31,
   "id": "d1d4c7a9",
   "metadata": {},
   "outputs": [
    {
     "name": "stdout",
     "output_type": "stream",
     "text": [
      "[[0.5488135  0.71518937 0.60276338]\n",
      " [0.54488318 0.4236548  0.64589411]\n",
      " [0.43758721 0.891773   0.96366276]]\n",
      "[158 165 139 187 146 188 181 137 125 177]\n"
     ]
    }
   ],
   "source": [
    "np.random.seed(0)\n",
    "arr=np.random.rand(3,3)\n",
    "print(arr)\n",
    "print(np.random.randint(100,200,10))"
   ]
  },
  {
   "cell_type": "code",
   "execution_count": null,
   "id": "7767b981",
   "metadata": {},
   "outputs": [
    {
     "name": "stdout",
     "output_type": "stream",
     "text": [
      "[6 8]\n",
      "[ 8 15]\n",
      "[-2 -2]\n"
     ]
    }
   ],
   "source": [
    "arr1=np.array([2,3])\n",
    "arr2=np.array([4,5])\n",
    "print(arr1+arr2)\n",
    "print(arr1*arr2)\n",
    "print(arr1-arr2)\n"
   ]
  },
  {
   "cell_type": "code",
   "execution_count": null,
   "id": "3c1bc666",
   "metadata": {},
   "outputs": [
    {
     "name": "stdout",
     "output_type": "stream",
     "text": [
      "32\n"
     ]
    }
   ],
   "source": [
    "# Dot Product \n",
    "a=np.array([1,2,3])\n",
    "b=np.array([4,5,6])\n",
    "print(np.dot(a,b))\n",
    "# For 2d Array matrix multiplication wil take place\n"
   ]
  },
  {
   "cell_type": "code",
   "execution_count": 36,
   "id": "2665f287",
   "metadata": {},
   "outputs": [
    {
     "name": "stdout",
     "output_type": "stream",
     "text": [
      "15\n",
      "3.0\n",
      "1.4142135623730951\n",
      "5\n",
      "1\n"
     ]
    }
   ],
   "source": [
    "arr = np.array([1,2,3,4,5])\n",
    "print(np.sum(arr))       # sum\n",
    "print(np.mean(arr))      # average\n",
    "print(np.std(arr))       # standard deviation\n",
    "print(np.max(arr))       # maximum\n",
    "print(np.min(arr))       # minimum\n"
   ]
  },
  {
   "cell_type": "code",
   "execution_count": 38,
   "id": "0967fc97",
   "metadata": {},
   "outputs": [
    {
     "name": "stdout",
     "output_type": "stream",
     "text": [
      "70.0\n"
     ]
    }
   ],
   "source": [
    "print(np.mean([68, 71, 72, 69, 70]))"
   ]
  },
  {
   "cell_type": "markdown",
   "id": "a7c0bb63",
   "metadata": {},
   "source": [
    "## Starting Matplotlib"
   ]
  },
  {
   "cell_type": "markdown",
   "id": "3db1e43f",
   "metadata": {},
   "source": []
  },
  {
   "cell_type": "code",
   "execution_count": 1,
   "id": "eea5a2db",
   "metadata": {},
   "outputs": [],
   "source": [
    "import matplotlib as plt"
   ]
  },
  {
   "cell_type": "markdown",
   "id": "a81a945f",
   "metadata": {},
   "source": []
  }
 ],
 "metadata": {
  "kernelspec": {
   "display_name": "Python 3",
   "language": "python",
   "name": "python3"
  },
  "language_info": {
   "codemirror_mode": {
    "name": "ipython",
    "version": 3
   },
   "file_extension": ".py",
   "mimetype": "text/x-python",
   "name": "python",
   "nbconvert_exporter": "python",
   "pygments_lexer": "ipython3",
   "version": "3.13.5"
  }
 },
 "nbformat": 4,
 "nbformat_minor": 5
}
